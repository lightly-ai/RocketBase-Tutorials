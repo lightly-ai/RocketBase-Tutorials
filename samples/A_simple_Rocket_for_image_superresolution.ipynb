{
  "nbformat": 4,
  "nbformat_minor": 0,
  "metadata": {
    "colab": {
      "name": "A simple Rocket for image superresolution.ipynb",
      "version": "0.3.2",
      "provenance": [],
      "collapsed_sections": []
    },
    "kernelspec": {
      "name": "python3",
      "display_name": "Python 3"
    }
  },
  "cells": [
    {
      "cell_type": "markdown",
      "metadata": {
        "id": "bmj_BNovw6Xf",
        "colab_type": "text"
      },
      "source": [
        "# This COLAB shows you how to use a Rocket for Superresolution\n",
        "\n",
        "In this example you will learn how to use a Rocket to improve the resolution of an image. \n",
        "\n",
        "Expected time for this tutorial **10 min**"
      ]
    },
    {
      "cell_type": "markdown",
      "metadata": {
        "id": "YS3pDu4wjRo-",
        "colab_type": "text"
      },
      "source": [
        "### How to use Jupyter Notebooks or Google Colab\n",
        "\n",
        "In notebooks we can run code in so called cells. \n",
        "\n",
        "Each cell can be **run** by either selecting the cell and clicking on the run/play icon on the left of the cell or by the keyboard shortcut *shift-enter*"
      ]
    },
    {
      "cell_type": "markdown",
      "metadata": {
        "id": "c8S5TueaxLnS",
        "colab_type": "text"
      },
      "source": [
        "### First we need to install the rocketbase pip package\n",
        "\n",
        "To use rocketbase we will need to install the pip package `rocketbase`. We can use the following command in colab to install the package."
      ]
    },
    {
      "cell_type": "code",
      "metadata": {
        "id": "Bo2iEJANuB4g",
        "colab_type": "code",
        "colab": {}
      },
      "source": [
        "!pip install rocketbase"
      ],
      "execution_count": 0,
      "outputs": []
    },
    {
      "cell_type": "markdown",
      "metadata": {
        "id": "JFDezt9CxPki",
        "colab_type": "text"
      },
      "source": [
        "### Now we can load our dependencies\n",
        "\n",
        "* We use PyTorch to work with deep neural networks.\n",
        "* We use rocketbase to use Rockets\n",
        "* We use PIL (pillow) for loading images"
      ]
    },
    {
      "cell_type": "code",
      "metadata": {
        "id": "vsMprQk_uKaG",
        "colab_type": "code",
        "colab": {}
      },
      "source": [
        "import torch\n",
        "from rocketbase import Rocket\n",
        "from PIL import Image"
      ],
      "execution_count": 0,
      "outputs": []
    },
    {
      "cell_type": "markdown",
      "metadata": {
        "id": "GiziMsyMxkj9",
        "colab_type": "text"
      },
      "source": [
        "### Let's load an image\n",
        "\n",
        "You can change the url with another image if you want. Be careful, the bigger the image the longer takes the computation.\n",
        "\n",
        "The following command will load the image from the given URL into a `PIL.Image` object and saves it into `img`"
      ]
    },
    {
      "cell_type": "code",
      "metadata": {
        "id": "yFIO03039-3a",
        "colab_type": "code",
        "colab": {}
      },
      "source": [
        "# first we need download the image to use it in this colab notebook\n",
        "!wget http://www.petbusiness.com/web_cats.png"
      ],
      "execution_count": 0,
      "outputs": []
    },
    {
      "cell_type": "code",
      "metadata": {
        "id": "iVxArE2Gu_JR",
        "colab_type": "code",
        "colab": {}
      },
      "source": [
        "img = Image.open('web_cats.png')"
      ],
      "execution_count": 0,
      "outputs": []
    },
    {
      "cell_type": "markdown",
      "metadata": {
        "id": "w3TJoFaoxui0",
        "colab_type": "text"
      },
      "source": [
        "### Let's have a look at the image before we apply superresolution\n",
        "\n",
        "In notebooks we can display the image by simply calling it."
      ]
    },
    {
      "cell_type": "code",
      "metadata": {
        "id": "sisPravXvqkO",
        "colab_type": "code",
        "colab": {}
      },
      "source": [
        "img"
      ],
      "execution_count": 0,
      "outputs": []
    },
    {
      "cell_type": "markdown",
      "metadata": {
        "id": "HAixXKW9xycz",
        "colab_type": "text"
      },
      "source": [
        "### Now we use land the Rocket and run the image through it\n",
        "\n",
        "For this example we use the **igor/esrgan** Rocket. This Rocket can be used to improve the resolution of an input image.\n",
        "\n",
        "First, we will land the Rocket using the **land** command.\n",
        "We will then run the image through our model. We first call **preprocess** to convert the image into a PyTorch tensor. Then we run the tensor through our model. Finally, we use the **postprocess** method to convert the output into human readable format.\n",
        "\n",
        "> ***Note that we use the `torch.no_grad()` namespace to prevent tracking of any gradients***\n",
        "\n",
        "This process will take some time..."
      ]
    },
    {
      "cell_type": "code",
      "metadata": {
        "id": "7B8xXOMSvuXQ",
        "colab_type": "code",
        "colab": {}
      },
      "source": [
        "# land a Rocket\n",
        "model = Rocket.land('igor/esrgan').eval()"
      ],
      "execution_count": 0,
      "outputs": []
    },
    {
      "cell_type": "code",
      "metadata": {
        "id": "97I4ftGWlPFD",
        "colab_type": "code",
        "colab": {}
      },
      "source": [
        "# processs the image with our Rocket\n",
        "with torch.no_grad():\n",
        "  img_tensor = model.preprocess(img)\n",
        "  out = model(img_tensor)\n",
        "  img_out = model.postprocess(out)"
      ],
      "execution_count": 0,
      "outputs": []
    },
    {
      "cell_type": "markdown",
      "metadata": {
        "id": "eKBHFErVyipB",
        "colab_type": "text"
      },
      "source": [
        "### Now let's have a look at the output image"
      ]
    },
    {
      "cell_type": "code",
      "metadata": {
        "id": "YmoHEwtavy1r",
        "colab_type": "code",
        "colab": {}
      },
      "source": [
        "img_out"
      ],
      "execution_count": 0,
      "outputs": []
    },
    {
      "cell_type": "code",
      "metadata": {
        "id": "6EBApF-DwqSH",
        "colab_type": "code",
        "colab": {}
      },
      "source": [
        ""
      ],
      "execution_count": 0,
      "outputs": []
    }
  ]
}